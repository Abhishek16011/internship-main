{
 "cells": [
  {
   "cell_type": "markdown",
   "metadata": {},
   "source": [
    "Programming Question\n"
   ]
  },
  {
   "cell_type": "markdown",
   "metadata": {},
   "source": [
    " 1. Write a python program to find a factorial of a number"
   ]
  },
  {
   "cell_type": "markdown",
   "metadata": {},
   "source": [
    "Answer below"
   ]
  },
  {
   "cell_type": "code",
   "execution_count": 1,
   "metadata": {},
   "outputs": [],
   "source": [
    "def fact(n) :\n",
    "    if(n==0) :\n",
    "        return 1\n",
    "    else :\n",
    "        return n*fact (n-1)"
   ]
  },
  {
   "cell_type": "code",
   "execution_count": 2,
   "metadata": {},
   "outputs": [
    {
     "name": "stdout",
     "output_type": "stream",
     "text": [
      "Enter x :6\n",
      "6! 720\n"
     ]
    }
   ],
   "source": [
    "x=int(input (\"Enter x :\"))\n",
    "y=fact(x)\n",
    "print(\"{}! {}\".format(x,y))"
   ]
  },
  {
   "cell_type": "markdown",
   "metadata": {},
   "source": [
    "2. write a python program weather a number is prime or composite"
   ]
  },
  {
   "cell_type": "code",
   "execution_count": 7,
   "metadata": {},
   "outputs": [
    {
     "name": "stdout",
     "output_type": "stream",
     "text": [
      "Enter the number: 5\n"
     ]
    }
   ],
   "source": [
    "n=input('Enter the number: ')\n",
    "try:\n",
    "    n=int(n)\n",
    "except:\n",
    "    print('Wrong input.')\n",
    "    quit()\n",
    "if n==1 or n==0:\n",
    "    print('this is either prime or composite')\n",
    "else:\n",
    "    c=0\n",
    "\n",
    "   "
   ]
  },
  {
   "cell_type": "code",
   "execution_count": 8,
   "metadata": {},
   "outputs": [
    {
     "name": "stdout",
     "output_type": "stream",
     "text": [
      "this is prime number\n",
      "this is prime number\n",
      "this is prime number\n"
     ]
    }
   ],
   "source": [
    " for i in range(2,n):\n",
    "        if n%i==0:\n",
    "            c=c+1\n",
    "        if c==0:\n",
    "            print(\"this is prime number\")\n",
    "        else:\n",
    "            print(\"this is composite number.\")"
   ]
  },
  {
   "cell_type": "markdown",
   "metadata": {},
   "source": [
    "3. Write a python program to check whether a given string is palindrome or not."
   ]
  },
  {
   "cell_type": "code",
   "execution_count": 10,
   "metadata": {},
   "outputs": [
    {
     "name": "stdout",
     "output_type": "stream",
     "text": [
      " Oranges app\n"
     ]
    }
   ],
   "source": [
    "String = input(\" Oranges \")\n",
    "str1=\"\""
   ]
  },
  {
   "cell_type": "code",
   "execution_count": 12,
   "metadata": {},
   "outputs": [
    {
     "name": "stdout",
     "output_type": "stream",
     "text": [
      "String in reverse Order :  ppa\n",
      "This is Not a Palindrome String\n"
     ]
    }
   ],
   "source": [
    "for i in String:\n",
    "    str1 = i + str1\n",
    "print(\"String in reverse Order : \",str1)\n",
    "\n",
    "if(String == str1):\n",
    "    print(\"This is a Palindrome String\")\n",
    "else:\n",
    "    print(\"This is Not a Palindrome String\")"
   ]
  },
  {
   "cell_type": "markdown",
   "metadata": {},
   "source": [
    "4. Write a Python program to get the third side of right-angled triangle from two given sides."
   ]
  },
  {
   "cell_type": "code",
   "execution_count": 20,
   "metadata": {},
   "outputs": [],
   "source": [
    "def pythagoras(opposite_side,adjacent_side,hypotenuse):\n",
    "    if opposite_side == str(\"x\"):\n",
    "        return (\"opposite = \" + str(((hypotenuse**2) - (adjacent_side**2))**0.5))\n",
    "    elif adjacent_side == str(\"x\"):\n",
    "        return(\"Adjacent = \" + str(((hypotenuse**2) - (opposite_side**2))**0.5))\n",
    "    elif hypotenuse == str(\"x\"):\n",
    "        return (\"hypotenuse = \" + str(((opposite_side**2) + (adjacent_side**2))**0.5))\n",
    "    else:\n",
    "        return \"the answer is!\"\n",
    "    \n",
    "    "
   ]
  },
  {
   "cell_type": "code",
   "execution_count": 22,
   "metadata": {},
   "outputs": [
    {
     "name": "stdout",
     "output_type": "stream",
     "text": [
      "hypotenuse = 9.219544457292887\n",
      "Adjacent = 5.291502622129181\n",
      "opposite = 3.872983346207417\n",
      "the answer is!\n"
     ]
    }
   ],
   "source": [
    "print(pythagoras(6,7,'x'))\n",
    "print(pythagoras(6,'x',8))\n",
    "print(pythagoras('x',7,8))\n",
    "print(pythagoras(6,7,8))"
   ]
  },
  {
   "cell_type": "markdown",
   "metadata": {},
   "source": [
    "5. Write a python program to print the frequency of each of the characters present in a given string."
   ]
  },
  {
   "cell_type": "code",
   "execution_count": 29,
   "metadata": {},
   "outputs": [
    {
     "name": "stdout",
     "output_type": "stream",
     "text": [
      "Given String:  AbhishekNipane\n",
      "Frequency of each character :\n",
      "  {'p': 1, 'n': 1, 'N': 1, 'A': 1, 'k': 1, 'b': 1, 'e': 2, 'a': 1, 'i': 2, 's': 1, 'h': 2}\n"
     ]
    }
   ],
   "source": [
    "#Answer\n",
    "strQ = \"AbhishekNipane\"\n",
    "print (\"Given String: \",strQ)\n",
    "res = {}\n",
    " \n",
    "res={n: strQ.count(n) for n in set(strQ)}\n",
    "\n",
    "print(\"Frequency of each character :\\n \",res)"
   ]
  }
 ],
 "metadata": {
  "kernelspec": {
   "display_name": "Python 3",
   "language": "python",
   "name": "python3"
  },
  "language_info": {
   "codemirror_mode": {
    "name": "ipython",
    "version": 3
   },
   "file_extension": ".py",
   "mimetype": "text/x-python",
   "name": "python",
   "nbconvert_exporter": "python",
   "pygments_lexer": "ipython3",
   "version": "3.8.5"
  }
 },
 "nbformat": 4,
 "nbformat_minor": 4
}
